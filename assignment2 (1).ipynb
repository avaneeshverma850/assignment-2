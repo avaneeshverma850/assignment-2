{
 "cells": [
  {
   "cell_type": "code",
   "execution_count": 3,
   "id": "05e75050-e2ab-4e62-9ada-8aada6deef96",
   "metadata": {},
   "outputs": [
    {
     "name": "stdin",
     "output_type": "stream",
     "text": [
      "enter cost price in Rs: 200000\n"
     ]
    },
    {
     "name": "stdout",
     "output_type": "stream",
     "text": [
      "Tax: 15%\n"
     ]
    }
   ],
   "source": [
    "cp=int(input(\"enter cost price in Rs:\"))\n",
    "if cp>100000:\n",
    "    print(\"Tax:\",\"15%\")\n",
    "elif cp<=100000 and cp>50000:\n",
    "    print(\"Tax:\",\"10%\")\n",
    "else:\n",
    "    print(\"Tax:\",\"5%\")"
   ]
  },
  {
   "cell_type": "code",
   "execution_count": 2,
   "id": "70c8227f-d6bf-4a02-95d3-578465348397",
   "metadata": {},
   "outputs": [
    {
     "name": "stdin",
     "output_type": "stream",
     "text": [
      "enter percentage: 34\n"
     ]
    },
    {
     "name": "stdout",
     "output_type": "stream",
     "text": [
      "Grade: D\n"
     ]
    }
   ],
   "source": [
    "x=float(input(\"enter percentage:\"))\n",
    "if x>90:\n",
    "    print(\"Grade:\",\"A\")\n",
    "elif x<=90 and x>80:\n",
    "    print(\"Grade:\",\"B\")\n",
    "elif x<=80 and x>=60:\n",
    "    print(\"Grade:\",\"C\")\n",
    "else:\n",
    "    print(\"Grade:\",\"D\")"
   ]
  },
  {
   "cell_type": "code",
   "execution_count": 3,
   "id": "c6197e2f-56db-492d-9eb3-8c84964afe3b",
   "metadata": {},
   "outputs": [
    {
     "name": "stdin",
     "output_type": "stream",
     "text": [
      "enter city: delhi\n"
     ]
    },
    {
     "name": "stdout",
     "output_type": "stream",
     "text": [
      "monument: delhi\n"
     ]
    }
   ],
   "source": [
    "city=input(\"enter city:\")\n",
    "if city==\"delhi\":\n",
    "        print(\"monument:\",\"delhi\")\n",
    "if city==\"agra\":\n",
    "    print(\"monument:\",\"tajmahal\")\n",
    "if city==\"jaipur\":\n",
    "    print(\"monument:\",\"jalmahal\")"
   ]
  },
  {
   "cell_type": "code",
   "execution_count": 4,
   "id": "919754e5-b548-41d5-bf19-31ca5ef8188f",
   "metadata": {},
   "outputs": [
    {
     "name": "stdout",
     "output_type": "stream",
     "text": [
      "10 9 8 7 6 5 4 3 2 1 "
     ]
    }
   ],
   "source": [
    "i=10\n",
    "while i>0:\n",
    "    print(i,end=' ')\n",
    "    i=i-1"
   ]
  },
  {
   "cell_type": "code",
   "execution_count": 7,
   "id": "760b3796-6c6c-4da5-991a-f3d250a7b23e",
   "metadata": {},
   "outputs": [
    {
     "name": "stdout",
     "output_type": "stream",
     "text": [
      "times agiven number can be divided by 3 is: 3\n"
     ]
    }
   ],
   "source": [
    "count=0\n",
    "for i in range(1,10+1):\n",
    "    if(i%3==0):\n",
    "        count=count+1\n",
    "print(\"times agiven number can be divided by 3 is:\",count)"
   ]
  },
  {
   "cell_type": "code",
   "execution_count": null,
   "id": "61b5db02-5d05-459c-8129-f8de208dc652",
   "metadata": {},
   "outputs": [],
   "source": [
    "#A while loop is used to repeat a specific block of code an unknown number of times,until a condition become false.if the condition evealuat true\n",
    ",the c"
   ]
  }
 ],
 "metadata": {
  "kernelspec": {
   "display_name": "Python 3 (ipykernel)",
   "language": "python",
   "name": "python3"
  },
  "language_info": {
   "codemirror_mode": {
    "name": "ipython",
    "version": 3
   },
   "file_extension": ".py",
   "mimetype": "text/x-python",
   "name": "python",
   "nbconvert_exporter": "python",
   "pygments_lexer": "ipython3",
   "version": "3.10.8"
  }
 },
 "nbformat": 4,
 "nbformat_minor": 5
}
